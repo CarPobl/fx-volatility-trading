{
 "cells": [
  {
   "cell_type": "code",
   "execution_count": 1,
   "id": "expected-culture",
   "metadata": {},
   "outputs": [
    {
     "data": {
      "text/plain": [
       "0"
      ]
     },
     "execution_count": 1,
     "metadata": {},
     "output_type": "execute_result"
    }
   ],
   "source": [
    "import os\n",
    "os.system(\"export LANG=C.UTF-8\")"
   ]
  },
  {
   "cell_type": "code",
   "execution_count": 2,
   "id": "referenced-interaction",
   "metadata": {},
   "outputs": [],
   "source": [
    "# Packages, constants and utils:\n",
    "from algorithm import SPOT_DATA_FILE\n",
    "from algorithm import VOL_DATA_FILE\n",
    "\n",
    "from algorithm.utils import (\n",
    "    FileDef,\n",
    "    load_csv_data,\n",
    "    get_index_of_first,\n",
    ")\n",
    "from algorithm.stat_methods import (\n",
    "    calc_annual_realised_vol,\n",
    "    calc_moving_percentile,\n",
    "    forecast_ema_vol,\n",
    ")\n",
    "from algorithm.trade_classes import VarianceSwap\n",
    "from algorithm.graphics import PandasHeatMapPlot\n",
    "\n",
    "import numpy as np\n",
    "from datetime import timedelta\n",
    "\n",
    "not_nan = lambda val: not np.isnan(val)\n",
    "YEAR_WINDOW = 252  # 1Y (in business_days)\n"
   ]
  },
  {
   "cell_type": "code",
   "execution_count": 3,
   "id": "prescribed-small",
   "metadata": {},
   "outputs": [],
   "source": [
    "# Imputs\n",
    "swap_window_size = 21  # 1M (in business_days)\n",
    "percentile_window_size = YEAR_WINDOW\n",
    "ema_lambda = 0.97\n",
    "\n",
    "x_cells_in_plot = 20\n",
    "y_cells_in_plot = 30\n",
    "\n",
    "T_swap = swap_window_size / YEAR_WINDOW  # (in years)\n"
   ]
  },
  {
   "cell_type": "code",
   "execution_count": 4,
   "id": "yellow-complexity",
   "metadata": {},
   "outputs": [],
   "source": [
    "# Load Market data\n",
    "file_defs = [\n",
    "    FileDef(filename=SPOT_DATA_FILE, colname=\"spot\"),\n",
    "    FileDef(filename=VOL_DATA_FILE, colname=\"1m_annualised_atmf_vol\"),\n",
    "]\n",
    "df = load_csv_data(*file_defs)\n"
   ]
  },
  {
   "cell_type": "code",
   "execution_count": 5,
   "id": "transparent-pregnancy",
   "metadata": {},
   "outputs": [],
   "source": [
    "# Sort loaded data\n",
    "df.sort_values(by=\"date\", ascending=True, inplace=True)"
   ]
  },
  {
   "cell_type": "code",
   "execution_count": 6,
   "id": "stuffed-appearance",
   "metadata": {},
   "outputs": [
    {
     "ename": "SyntaxError",
     "evalue": "invalid syntax (<ipython-input-6-3bc6bfd3603a>, line 17)",
     "output_type": "error",
     "traceback": [
      "\u001b[0;36m  File \u001b[0;32m\"<ipython-input-6-3bc6bfd3603a>\"\u001b[0;36m, line \u001b[0;32m17\u001b[0m\n\u001b[0;31m    vol_0_monthly = calc_annual_realised_vol(first_year_spots) / (\u001b[0m\n\u001b[0m                ^\u001b[0m\n\u001b[0;31mSyntaxError\u001b[0m\u001b[0;31m:\u001b[0m invalid syntax\n"
     ]
    }
   ],
   "source": [
    "# Volatilities\n",
    "\n",
    "# Convert annualised implied vol to monthly vol\n",
    "df[\"1m_annualised_atmf_vol\"] = df[\"1m_annualised_atmf_vol\"] / 100\n",
    "df[\"1m_atmf_vol\"] = df[\"1m_annualised_atmf_vol\"] * (swap_window_size / 252) ** 0.5\n",
    "\n",
    "# Calculate implied volatility percentile for a 1-year window\n",
    "df[\"1y_implied_vol_percentile\"] = np.NaN\n",
    "df[\"1y_implied_vol_percentile\"] = calc_moving_percentile(\n",
    "    np.array(df[\"1m_atmf_vol\"]), percentile_window_size\n",
    ")\n",
    "print(df.head())\n",
    "\n",
    "# Calculate forecasted 1M realised vol using EMA\n",
    "start = get_index_of_first(np.array(df[\"spot\"]), not_nan)\n",
    "first_year_spots = np.array(np.array(df[\"spot\"].iloc[start : start + YEAR_WINDOW]))\n",
    "vol_0_monthly = calc_annual_realised_vol(first_year_spots) / (\n",
    "    12 ** 0.5\n",
    ")  # From annualised to monthly\n",
    "\n",
    "df[\"1m_realised_ema_vol_forecast\"] = np.NaN\n",
    "df[\"1m_realised_ema_vol_forecast\"][start:] = forecast_ema_vol(\n",
    "    levels=np.array(df[\"spot\"].iloc[start:]),\n",
    "    vol_0=vol_0_monthly,\n",
    "    window_size=swap_window_size,\n",
    "    _lambda=ema_lambda\n",
    ")\n",
    "print(df.head())"
   ]
  },
  {
   "cell_type": "code",
   "execution_count": null,
   "id": "postal-meeting",
   "metadata": {},
   "outputs": [],
   "source": [
    "# Remove null values araising from window discrepancies\n",
    "df.dropna(inplace=True)\n",
    "print(df.head())"
   ]
  },
  {
   "cell_type": "code",
   "execution_count": null,
   "id": "contained-package",
   "metadata": {},
   "outputs": [],
   "source": [
    "# Create a trade to be traded every day at the fair strike K,\n",
    "# with a variance notional of 1, and maturing in 1M.\n",
    "# For this, calculate K_fair using a rule-of-thumb described\n",
    "# Bassu-Strasser-Guichard Varswap paper.\n",
    "\n",
    "# Although not a fair assumption, there is no enough market data\n",
    "# to estimatethis value. It would have been possible if volatility\n",
    "# data for different deltas was provided.\n",
    "skew_slope = 0\n",
    "\n",
    "# We also calculate the payoff at maturity of each trade, distinguishing\n",
    "# between those that are profitable and those that are not.\n",
    "\n",
    "latest_date = df[\"date\"].max()\n",
    "fair_trades = [np.NaN] * df.shape[0]\n",
    "payoffs = [np.NaN] * df.shape[0]\n",
    "# TODO: loop below is very inefficient. Implement efficient algorithm\n",
    "for indx, pair in enumerate(df.iterrows()):\n",
    "    row = pair[1]\n",
    "    if np.isnan(row[\"1m_atmf_vol\"]) or np.isnan(row[\"spot\"]):\n",
    "        continue\n",
    "    fair_strike = VarianceSwap.estimate_fair_strike(\n",
    "        row[\"1m_annualised_atmf_vol\"], T=T_swap, skew_slope=skew_slope\n",
    "    )\n",
    "\n",
    "    trade = VarianceSwap(\n",
    "        direction=\"buy\",\n",
    "        underlying=\"EURUSD\",\n",
    "        trade_date=row[\"date\"],\n",
    "        value_date=row[\"date\"] + timedelta(days=round(365 * T_swap)),\n",
    "        strike=fair_strike,\n",
    "        vega_amount=1,\n",
    "    )\n",
    "    fair_trades[indx] = trade\n",
    "\n",
    "    # Take the exact dates at which the trade was valued. Not just a fixed window\n",
    "    # We assume that the trade date does not count as valuation, but the value date\n",
    "    # does.\n",
    "    dates_in_trade = (df[\"date\"] > trade.trade_date) & (df[\"date\"] <= trade.value_date)\n",
    "    levels = np.array(df.loc[dates_in_trade, \"spot\"])\n",
    "\n",
    "    # If the expiry date later than the latest date in the dataframe, then break\n",
    "    if latest_date < trade.value_date:\n",
    "        break\n",
    "    final_realised_vol = VarianceSwap.calc_final_realised_vol(levels)\n",
    "    payoffs[indx] = trade.payoff(final_realised_vol)\n",
    "\n",
    "df[\"fair_trade\"] = fair_trades\n",
    "df[\"payoff\"] = payoffs\n",
    "df[\"profitable\"] = df[\"payoff\"] > 0"
   ]
  },
  {
   "cell_type": "code",
   "execution_count": null,
   "id": "instrumental-houston",
   "metadata": {},
   "outputs": [],
   "source": [
    "# Calculate Vol Carry and mark trades that are profitable for each trade date\n",
    "df[\"vol_carry\"] = df[\"1m_atmf_vol\"] - df[\"1m_realised_ema_vol_forecast\"]"
   ]
  },
  {
   "cell_type": "code",
   "execution_count": null,
   "id": "tender-record",
   "metadata": {},
   "outputs": [],
   "source": [
    "# Plot heatmap\n",
    "plot_cols = [\"1y_implied_vol_percentile\", \"vol_carry\", \"profitable\"]\n",
    "plot = PandasHeatMapPlot(df[plot_cols], x_cells_in_plot, y_cells_in_plot, *plot_cols)\n",
    "plot.show(\n",
    "    xlabel=\"Vol Percentile(%)\",\n",
    "    ylabel=\"Vol Carry(%)\",\n",
    ")"
   ]
  }
 ],
 "metadata": {
  "kernelspec": {
   "display_name": "Python 3",
   "language": "python",
   "name": "python3"
  },
  "language_info": {
   "codemirror_mode": {
    "name": "ipython",
    "version": 3
   },
   "file_extension": ".py",
   "mimetype": "text/x-python",
   "name": "python",
   "nbconvert_exporter": "python",
   "pygments_lexer": "ipython3",
   "version": "3.6.9"
  }
 },
 "nbformat": 4,
 "nbformat_minor": 5
}
