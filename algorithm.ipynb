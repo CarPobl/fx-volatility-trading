{
 "cells": [
  {
   "cell_type": "markdown",
   "id": "invalid-lafayette",
   "metadata": {},
   "source": [
    "# FX Volatility Trading\n",
    "\n",
    "Below is a prototype implementation of an algorithm that produces datasets for profitable strategies selection. The result is a dataset that can be fed into a classification machine learning algorithm to predict whether a variance swap is profitable or not."
   ]
  },
  {
   "cell_type": "markdown",
   "id": "pressed-papua",
   "metadata": {},
   "source": [
    "## Introduction and Initiation"
   ]
  },
  {
   "cell_type": "code",
   "execution_count": 1,
   "id": "grand-printing",
   "metadata": {},
   "outputs": [],
   "source": [
    "# Packages, constants and utils:\n",
    "from algorithm import SPOT_DATA_FILE\n",
    "from algorithm import VOL_DATA_FILE\n",
    "\n",
    "from algorithm.utils import (\n",
    "    FileDef,\n",
    "    load_csv_data,\n",
    "    get_index_of_first,\n",
    ")\n",
    "from algorithm.stat_methods import (\n",
    "    calc_annual_realised_vol,\n",
    "    calc_moving_percentile,\n",
    "    forecast_ema_vol,\n",
    ")\n",
    "from algorithm.trade_classes import VarianceSwap\n",
    "from algorithm.graphics import PandasHeatMapPlot\n",
    "\n",
    "import numpy as np\n",
    "from datetime import timedelta\n",
    "\n",
    "not_nan = lambda val: not np.isnan(val)\n",
    "YEAR_WINDOW = 252  # 1Y (in business_days)\n"
   ]
  },
  {
   "cell_type": "markdown",
   "id": "specialized-tribe",
   "metadata": {},
   "source": [
    "First of all, the parameters below can be adjusted in a more generalised algorithm. Since this is just a prototype, we will be assuming that **1-month variance swaps** are traded. A productionisable implementation would accept any tenor. The **percentile volatility window** has also been set for **1 year**, and, although it should be adjustable in a final product, the literature recommends to use this value. Similarly, the **λ** parameter for the Exponential Moving Average (EMA) forecast (see Volatility section) is recommended to be set to 0.97. There is no recommendation regarding the cell divisions, but the chosen ones give a \"nice\" result. "
   ]
  },
  {
   "cell_type": "code",
   "execution_count": 2,
   "id": "impressive-florence",
   "metadata": {},
   "outputs": [],
   "source": [
    "# Imputs\n",
    "swap_window_size = 21  # 1M (in business_days)\n",
    "percentile_window_size = YEAR_WINDOW\n",
    "ema_lambda = 0.97\n",
    "\n",
    "x_cells_in_plot = 20\n",
    "y_cells_in_plot = 30\n",
    "\n",
    "T_swap = swap_window_size / YEAR_WINDOW  # (in years)\n"
   ]
  },
  {
   "cell_type": "code",
   "execution_count": 3,
   "id": "convertible-royal",
   "metadata": {},
   "outputs": [],
   "source": [
    "# Load Market data\n",
    "file_defs = [\n",
    "    FileDef(filename=SPOT_DATA_FILE, colname=\"spot\"),\n",
    "    FileDef(filename=VOL_DATA_FILE, colname=\"1m_annualised_atmf_vol\"),\n",
    "]\n",
    "df = load_csv_data(*file_defs)\n"
   ]
  },
  {
   "cell_type": "markdown",
   "id": "established-poster",
   "metadata": {},
   "source": [
    "The loaded data requires dates to be in ascending order for the algorithm below"
   ]
  },
  {
   "cell_type": "code",
   "execution_count": 4,
   "id": "aboriginal-biography",
   "metadata": {},
   "outputs": [],
   "source": [
    "# Sort loaded data\n",
    "df.sort_values(by=\"date\", ascending=True, inplace=True)"
   ]
  },
  {
   "cell_type": "markdown",
   "id": "electoral-research",
   "metadata": {},
   "source": [
    "## Volatilities\n",
    "\n",
    "For this algorithm, the following data regarding volatilities are required for each date in the dataset:\n",
    "\n",
    "- 1-month at-the-money implied volatility for each date\n",
    "    \n",
    "- 1-month realised volatility forecast from each date into the future\n",
    "    \n",
    "- 1-year implied volatility percentile. This is the percentile of the implied volatility at a given date from the set of all the volatilities 1 year in the past."
   ]
  },
  {
   "cell_type": "markdown",
   "id": "coupled-blackberry",
   "metadata": {},
   "source": [
    "### 1M ATM Implied Volatility\n",
    "\n",
    "The first assumption taken in this algorithm is that the provided volatility data is already the 1-month at-the-money implied volatility, and that it is quoted in annualised terms. For this reason, it is convertend into monthly volatilities"
   ]
  },
  {
   "cell_type": "code",
   "execution_count": 5,
   "id": "bronze-strain",
   "metadata": {},
   "outputs": [
    {
     "name": "stdout",
     "output_type": "stream",
     "text": [
      "           date  spot  1m_annualised_atmf_vol  1m_atmf_vol\n",
      "3391 2007-11-02   NaN                  0.0720     0.020785\n",
      "3390 2007-11-05   NaN                  0.0750     0.021651\n",
      "3389 2007-11-06   NaN                  0.0755     0.021795\n",
      "3388 2007-11-07   NaN                  0.0880     0.025403\n",
      "3387 2007-11-08   NaN                  0.0885     0.025548\n"
     ]
    }
   ],
   "source": [
    "# Convert annualised implied vol to monthly vol\n",
    "df[\"1m_annualised_atmf_vol\"] = df[\"1m_annualised_atmf_vol\"] / 100\n",
    "df[\"1m_atmf_vol\"] = df[\"1m_annualised_atmf_vol\"] * (swap_window_size / 252) ** 0.5\n",
    "print(df.head())"
   ]
  },
  {
   "cell_type": "markdown",
   "id": "adjusted-faculty",
   "metadata": {},
   "source": [
    "### 1Y Implied Volatility Percentile\n",
    "A function has been written to fastly calculate the 1y prcentile volatility at each date (see algorithm/stat_methods.py)"
   ]
  },
  {
   "cell_type": "code",
   "execution_count": 6,
   "id": "noble-renewal",
   "metadata": {},
   "outputs": [
    {
     "name": "stdout",
     "output_type": "stream",
     "text": [
      "           date  spot  1m_annualised_atmf_vol  1m_atmf_vol  \\\n",
      "3391 2007-11-02   NaN                  0.0720     0.020785   \n",
      "3390 2007-11-05   NaN                  0.0750     0.021651   \n",
      "3389 2007-11-06   NaN                  0.0755     0.021795   \n",
      "3388 2007-11-07   NaN                  0.0880     0.025403   \n",
      "3387 2007-11-08   NaN                  0.0885     0.025548   \n",
      "\n",
      "      1y_implied_vol_percentile  \n",
      "3391                        NaN  \n",
      "3390                        NaN  \n",
      "3389                        NaN  \n",
      "3388                        NaN  \n",
      "3387                        NaN  \n"
     ]
    }
   ],
   "source": [
    "# Calculate implied volatility percentile for a 1-year window\n",
    "df[\"1y_implied_vol_percentile\"] = np.NaN\n",
    "df[\"1y_implied_vol_percentile\"] = calc_moving_percentile(\n",
    "    np.array(df[\"1m_atmf_vol\"]), percentile_window_size\n",
    ")\n",
    "print(df.head())"
   ]
  },
  {
   "cell_type": "markdown",
   "id": "supported-humanity",
   "metadata": {},
   "source": [
    "### 1M Realised Volatility Forecast\n",
    "As recommended in the literature, the volatility is forecasted for a 1-month horizon using an Exponential Moving Average (EMA). The formula is given below:\n",
    "\n",
    "```\n",
    "(EMA_t+1)^2 = (EMA_t)^2 * λ + u^2 * (1- λ)\n",
    "```\n",
    "\n",
    "where **λ** is a parameter that the literature recommends to be set to 0.97, and u are in our case the monthly logarithmic returns:\n",
    "```\n",
    "u_t = ln(P_t / p_(t-1month))\n",
    "```"
   ]
  },
  {
   "cell_type": "code",
   "execution_count": 7,
   "id": "focal-access",
   "metadata": {},
   "outputs": [
    {
     "name": "stdout",
     "output_type": "stream",
     "text": [
      "           date  spot  1m_annualised_atmf_vol  1m_atmf_vol  \\\n",
      "3391 2007-11-02   NaN                  0.0720     0.020785   \n",
      "3390 2007-11-05   NaN                  0.0750     0.021651   \n",
      "3389 2007-11-06   NaN                  0.0755     0.021795   \n",
      "3388 2007-11-07   NaN                  0.0880     0.025403   \n",
      "3387 2007-11-08   NaN                  0.0885     0.025548   \n",
      "\n",
      "      1y_implied_vol_percentile  1m_realised_ema_vol_forecast  \n",
      "3391                        NaN                           NaN  \n",
      "3390                        NaN                           NaN  \n",
      "3389                        NaN                           NaN  \n",
      "3388                        NaN                           NaN  \n",
      "3387                        NaN                           NaN  \n"
     ]
    },
    {
     "name": "stderr",
     "output_type": "stream",
     "text": [
      "/home/carlos/projects/fx-volatility-trading/algorithm/stat_methods.py:10: RuntimeWarning: divide by zero encountered in true_divide\n",
      "  return np.log((levels / levels_t_minus_s)[window_size:])\n",
      "/home/carlos/projects/fx-volatility-trading/venv_fx_vol_trad/lib/python3.6/site-packages/ipykernel_launcher.py:13: SettingWithCopyWarning: \n",
      "A value is trying to be set on a copy of a slice from a DataFrame\n",
      "\n",
      "See the caveats in the documentation: https://pandas.pydata.org/pandas-docs/stable/user_guide/indexing.html#returning-a-view-versus-a-copy\n",
      "  del sys.path[0]\n"
     ]
    }
   ],
   "source": [
    "# Calculate forecasted 1M realised vol using EMA\n",
    "start = get_index_of_first(np.array(df[\"spot\"]), not_nan)\n",
    "first_year_spots = np.array(np.array(df[\"spot\"].iloc[start : start + YEAR_WINDOW]))\n",
    "vol_0_monthly = calc_annual_realised_vol(first_year_spots) / (\n",
    "    12 ** 0.5\n",
    ")  # From annualised to monthly\n",
    "\n",
    "df[\"1m_realised_ema_vol_forecast\"] = np.NaN\n",
    "df[\"1m_realised_ema_vol_forecast\"][start:] = forecast_ema_vol(\n",
    "    levels=np.array(df[\"spot\"].iloc[start:]),\n",
    "    vol_0=vol_0_monthly,\n",
    "    window_size=swap_window_size,\n",
    "    _lambda=ema_lambda\n",
    ")\n",
    "print(df.head())"
   ]
  },
  {
   "cell_type": "markdown",
   "id": "sharp-spanking",
   "metadata": {},
   "source": [
    "Since some ofthecalculations require a window in the past(logarithmic monthly returns require a window of one month, percentile window requires a wondow of 1 year), and the spot and vol market data provided have different sizes, NaN values are introduced in the datafrae, which need to be cleaned."
   ]
  },
  {
   "cell_type": "code",
   "execution_count": 8,
   "id": "selective-quantity",
   "metadata": {},
   "outputs": [
    {
     "name": "stdout",
     "output_type": "stream",
     "text": [
      "           date    spot  1m_annualised_atmf_vol  1m_atmf_vol  \\\n",
      "3129 2008-11-04  1.2981                0.240725     0.069491   \n",
      "3128 2008-11-05  1.2954                0.237925     0.068683   \n",
      "3127 2008-11-06  1.2715                0.246675     0.071209   \n",
      "3126 2008-11-07  1.2718                0.234675     0.067745   \n",
      "3125 2008-11-10  1.2748                0.217075     0.062664   \n",
      "\n",
      "      1y_implied_vol_percentile  1m_realised_ema_vol_forecast  \n",
      "3129                   0.968254                      0.041122  \n",
      "3128                   0.964286                      0.040657  \n",
      "3127                   0.968254                      0.040113  \n",
      "3126                   0.952381                      0.039507  \n",
      "3125                   0.944444                      0.039050  \n"
     ]
    }
   ],
   "source": [
    "# Remove null values araising from window discrepancies\n",
    "df.dropna(inplace=True)\n",
    "print(df.head())"
   ]
  },
  {
   "cell_type": "markdown",
   "id": "pleased-vietnam",
   "metadata": {},
   "source": [
    "## Ideal trade mocking\n",
    "For a real machine learning algorithm, real-trade data would be ideally used to be able to train a model to predict their profitability. However, this was not provided and we will therefore pretend that a 1-month variance swap was traded on each date. Each of these trades will be an ideal trade stroke at the fair price for each date."
   ]
  },
  {
   "cell_type": "markdown",
   "id": "located-uzbekistan",
   "metadata": {},
   "source": [
    "Each trade will have a fair strike **K_fair**, with a variance notional of 1, and will be maturing in 1M from the trade date. For this, K_fair is calculated using a rule-of-thumb described Bassu-Strasser-Guichard Varswap paper.\n",
    "\n",
    "unfortunately, there is no enough market data to estimate this value, as the volatility skew is required. It would have been possible to calculate it if more volatilities from the volatility surface were provided (more specifically, if volatilities for the same tenor and different deltas were provided). Although not a fair assumption, we will assume for this exercise that the volatility is constant with the currency price when at-the-money."
   ]
  },
  {
   "cell_type": "code",
   "execution_count": 9,
   "id": "mineral-transcript",
   "metadata": {},
   "outputs": [],
   "source": [
    "skew_slope = 0"
   ]
  },
  {
   "cell_type": "markdown",
   "id": "great-morocco",
   "metadata": {},
   "source": [
    "The chunk of code below is in charge of creating a trade on each date, calculate the actual (not forecasted) final, realised volatility, and use it to calculate the payoff. As it may be seen, this piece of code is very inefficient. A better implementation was not done due to lack of time, but also because it also offers a clear picture of what is happening. Proper productionisable implementation would likely involve array operations rather than brute-force looping."
   ]
  },
  {
   "cell_type": "code",
   "execution_count": 10,
   "id": "banned-truth",
   "metadata": {},
   "outputs": [
    {
     "name": "stderr",
     "output_type": "stream",
     "text": [
      "/home/carlos/projects/fx-volatility-trading/algorithm/stat_methods.py:10: RuntimeWarning: divide by zero encountered in true_divide\n",
      "  return np.log((levels / levels_t_minus_s)[window_size:])\n"
     ]
    },
    {
     "name": "stdout",
     "output_type": "stream",
     "text": [
      "                                             fair_trade  profitable\n",
      "3129  EURUSD: buy 1@0.24072500000000002 | 2008-11-04...       False\n",
      "3128  EURUSD: buy 1@0.237925 | 2008-11-05 00:00:00 -...       False\n",
      "3127  EURUSD: buy 1@0.246675 | 2008-11-06 00:00:00 -...       False\n",
      "3126  EURUSD: buy 1@0.23467500000000002 | 2008-11-07...       False\n",
      "3125  EURUSD: buy 1@0.217075 | 2008-11-10 00:00:00 -...       False\n"
     ]
    }
   ],
   "source": [
    "# TODO: loop below is tremendously inefficient. Implement efficient algorithm\n",
    "latest_date = df[\"date\"].max()\n",
    "fair_trades = [np.NaN] * df.shape[0]\n",
    "payoffs = [np.NaN] * df.shape[0]\n",
    "\n",
    "for indx, pair in enumerate(df.iterrows()):\n",
    "    row = pair[1]\n",
    "    if np.isnan(row[\"1m_atmf_vol\"]) or np.isnan(row[\"spot\"]):\n",
    "        continue\n",
    "    fair_strike = VarianceSwap.estimate_fair_strike(\n",
    "        row[\"1m_annualised_atmf_vol\"], T=T_swap, skew_slope=skew_slope\n",
    "    )\n",
    "\n",
    "    trade = VarianceSwap(\n",
    "        direction=\"buy\",\n",
    "        underlying=\"EURUSD\",\n",
    "        trade_date=row[\"date\"],\n",
    "        value_date=row[\"date\"] + timedelta(days=round(365 * T_swap)),\n",
    "        strike=fair_strike,\n",
    "        vega_amount=1,\n",
    "    )\n",
    "    fair_trades[indx] = trade\n",
    "\n",
    "    # Take the exact dates at which the trade was valued. Not just a fixed window\n",
    "    # We assume that the trade date does not count as valuation, but the value date\n",
    "    # does.\n",
    "    dates_in_trade = (df[\"date\"] > trade.trade_date) & (df[\"date\"] <= trade.value_date)\n",
    "    levels = np.array(df.loc[dates_in_trade, \"spot\"])\n",
    "\n",
    "    # If the expiry date later than the latest date in the dataframe, then break\n",
    "    if latest_date < trade.value_date:\n",
    "        break\n",
    "    final_realised_vol = VarianceSwap.calc_final_realised_vol(levels)\n",
    "    payoffs[indx] = trade.payoff(final_realised_vol)\n",
    "\n",
    "df[\"fair_trade\"] = fair_trades\n",
    "df[\"payoff\"] = payoffs\n",
    "df[\"profitable\"] = df[\"payoff\"] > 0\n",
    "print(df[[\"fair_trade\", \"profitable\"]].head())"
   ]
  },
  {
   "cell_type": "markdown",
   "id": "tribal-convention",
   "metadata": {},
   "source": [
    "## Volatility Carry\n",
    "Finally, the last value required to input into the machine learning classification algorithm is the volatility carry, which is defined as below:"
   ]
  },
  {
   "cell_type": "code",
   "execution_count": 11,
   "id": "ahead-favor",
   "metadata": {},
   "outputs": [],
   "source": [
    "# Calculate Vol Carry and mark trades that are profitable for each trade date\n",
    "df[\"vol_carry\"] = df[\"1m_atmf_vol\"] - df[\"1m_realised_ema_vol_forecast\"]"
   ]
  },
  {
   "cell_type": "markdown",
   "id": "intensive-sympathy",
   "metadata": {},
   "source": [
    "## Plotting the results\n",
    "Now that we have all the required input values (1y- vol perventile and vol carry), and expected output (profitable trade), we proceed to group the data into buckets to see the **hit rate**. This grouping consists in dividing the vol percentile - vol carry plane into a grid and fitting the traded swaps inside their corresponding cell. The hit rate for each cell is calculated as the ratio between profitable and total number of trades. Custom class `PandasHeatMapPlot` takes care of this:"
   ]
  },
  {
   "cell_type": "code",
   "execution_count": 12,
   "id": "documentary-world",
   "metadata": {},
   "outputs": [
    {
     "name": "stderr",
     "output_type": "stream",
     "text": [
      "/home/carlos/projects/fx-volatility-trading/algorithm/graphics.py:65: SettingWithCopyWarning: \n",
      "A value is trying to be set on a copy of a slice from a DataFrame.\n",
      "Try using .loc[row_indexer,col_indexer] = value instead\n",
      "\n",
      "See the caveats in the documentation: https://pandas.pydata.org/pandas-docs/stable/user_guide/indexing.html#returning-a-view-versus-a-copy\n",
      "  str(gridise(row[xcolname], row[ycolname])) for _, row in df.iterrows()\n"
     ]
    },
    {
     "data": {
      "image/png": "[encoded data removed]",
      "text/plain": [
       "<Figure size 432x288 with 2 Axes>"
      ]
     },
     "metadata": {
      "needs_background": "light"
     },
     "output_type": "display_data"
    }
   ],
   "source": [
    "# Plot heatmap\n",
    "plot_cols = [\"1y_implied_vol_percentile\", \"vol_carry\", \"profitable\"]\n",
    "plot = PandasHeatMapPlot(df[plot_cols], x_cells_in_plot, y_cells_in_plot, *plot_cols)\n",
    "plot.show(\n",
    "    xlabel=\"Vol Percentile(%)\",\n",
    "    ylabel=\"Vol Carry(%)\",\n",
    ")"
   ]
  }
 ],
 "metadata": {
  "kernelspec": {
   "display_name": "Python 3",
   "language": "python",
   "name": "python3"
  },
  "language_info": {
   "codemirror_mode": {
    "name": "ipython",
    "version": 3
   },
   "file_extension": ".py",
   "mimetype": "text/x-python",
   "name": "python",
   "nbconvert_exporter": "python",
   "pygments_lexer": "ipython3",
   "version": "3.6.9"
  }
 },
 "nbformat": 4,
 "nbformat_minor": 5
}
